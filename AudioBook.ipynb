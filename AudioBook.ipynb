{
  "cells": [
    {
      "cell_type": "markdown",
      "metadata": {
        "id": "4zRGv6N7UDox"
      },
      "source": [
        "# Create an Audiobook from a PDF\n",
        "## This task tests your ability to apply Text to Speech conversion and Extraction of Text from PDF files in the creation of an audiobook from a PDF file"
      ]
    },
    {
      "cell_type": "markdown",
      "metadata": {
        "id": "pMNM_OgRUDoy"
      },
      "source": [
        "### Steps\n",
        "- Extract text from PDF file\n",
        "- Clean the text\n",
        "- Convert the text into speech\n",
        "- Save the speech\n",
        "- Play the speech"
      ]
    },
    {
      "cell_type": "markdown",
      "metadata": {
        "id": "EP-jtLZtUDoy"
      },
      "source": [
        "## 1. Extract text from PDF\n",
        "- Use PyPDF2"
      ]
    },
    {
      "cell_type": "markdown",
      "metadata": {
        "id": "SjupySntUDoz"
      },
      "source": [
        "### Install the library"
      ]
    },
    {
      "cell_type": "code",
      "execution_count": 14,
      "metadata": {
        "colab": {
          "base_uri": "https://localhost:8080/"
        },
        "id": "F-cXyKwvUDoz",
        "outputId": "805a08be-2e4c-4a2d-91d1-6c926661ed15"
      },
      "outputs": [
        {
          "output_type": "stream",
          "name": "stdout",
          "text": [
            "Requirement already satisfied: pypdf2 in /usr/local/lib/python3.11/dist-packages (3.0.1)\n"
          ]
        }
      ],
      "source": [
        "!pip install pypdf2"
      ]
    },
    {
      "cell_type": "markdown",
      "metadata": {
        "id": "JvSX5XPgUDoz"
      },
      "source": [
        "### Import the library"
      ]
    },
    {
      "cell_type": "code",
      "execution_count": 15,
      "metadata": {
        "id": "5oMPZ3UIUDoz"
      },
      "outputs": [],
      "source": [
        "# Import necessary libraries\n",
        "from PyPDF2 import PdfWriter, PdfReader\n",
        "from io import BytesIO\n"
      ]
    },
    {
      "cell_type": "markdown",
      "metadata": {
        "id": "kvmgH74DUDoz"
      },
      "source": [
        "### Extract the text"
      ]
    },
    {
      "cell_type": "code",
      "execution_count": 16,
      "metadata": {
        "colab": {
          "base_uri": "https://localhost:8080/"
        },
        "id": "ucyigtEzUDoz",
        "outputId": "4ffe5f07-d76e-412b-de1d-d40b96cd56e1"
      },
      "outputs": [
        {
          "output_type": "stream",
          "name": "stdout",
          "text": [
            "Requirement already satisfied: reportlab in /usr/local/lib/python3.11/dist-packages (4.3.1)\n",
            "Requirement already satisfied: pillow>=9.0.0 in /usr/local/lib/python3.11/dist-packages (from reportlab) (11.1.0)\n",
            "Requirement already satisfied: chardet in /usr/local/lib/python3.11/dist-packages (from reportlab) (5.2.0)\n",
            "TXT file 'kpe_sample_text.txt' converted to PDF 'output.pdf'\n"
          ]
        }
      ],
      "source": [
        "!pip install reportlab\n",
        "\n",
        "def txt_to_pdf(txt_file_path, pdf_file_path):\n",
        "    \"\"\"Converts a TXT file to PDF.\"\"\"\n",
        "    from PyPDF2 import PdfWriter, PdfReader\n",
        "    from reportlab.pdfgen import canvas\n",
        "    from reportlab.lib.pagesizes import letter\n",
        "\n",
        "    with open(txt_file_path, 'r') as txt_file:\n",
        "        text = txt_file.read()\n",
        "\n",
        "    # Create a PDF writer object using ReportLab\n",
        "    c = canvas.Canvas(pdf_file_path, pagesize=letter)\n",
        "\n",
        "    # Add the text to the page using ReportLab's drawString\n",
        "    # Adjust text positioning and font as needed\n",
        "    c.drawString(100, 750, text)\n",
        "\n",
        "    # Save the PDF to a file\n",
        "    c.save()\n",
        "\n",
        "# Use the function with your file paths\n",
        "txt_file_path = 'kpe_sample_text.txt'\n",
        "pdf_file_path = 'output.pdf'\n",
        "txt_to_pdf(txt_file_path, pdf_file_path)\n",
        "\n",
        "print(f\"TXT file '{txt_file_path}' converted to PDF '{pdf_file_path}'\")"
      ]
    },
    {
      "cell_type": "markdown",
      "metadata": {
        "id": "pURvvg-SUDoz"
      },
      "source": [
        "### Print the extracted text"
      ]
    },
    {
      "cell_type": "code",
      "execution_count": 17,
      "metadata": {
        "colab": {
          "base_uri": "https://localhost:8080/"
        },
        "id": "uLmHDQ5LUDoz",
        "outputId": "59d8093c-84dd-401d-fc0d-567c25c702a3"
      },
      "outputs": [
        {
          "output_type": "stream",
          "name": "stdout",
          "text": [
            "Requirement already satisfied: pypdf2 in /usr/local/lib/python3.11/dist-packages (3.0.1)\n",
            "Requirement already satisfied: reportlab in /usr/local/lib/python3.11/dist-packages (4.3.1)\n",
            "Requirement already satisfied: pillow>=9.0.0 in /usr/local/lib/python3.11/dist-packages (from reportlab) (11.1.0)\n",
            "Requirement already satisfied: chardet in /usr/local/lib/python3.11/dist-packages (from reportlab) (5.2.0)\n",
            "Common NLP Tasks■The following is a list of some of the most commonly researched tasks in natural language processing. Some of these tasks have direct real-world applications, while others more commonly serve as subtasks that are used to aid in solving larger tasks.■■Though natural language processing tasks are closely intertwined, they can be subdivided into categories for convenience. A coarse division is given below.■■Text and speech processing■Optical character recognition (OCR)■Given an image representing printed text, determine the corresponding text.■Speech recognition■Given a sound clip of a person or people speaking, determine the textual representation of the speech. This is the opposite of text to speech and is one of the extremely difficult problems colloquially termed \"AI-complete\" (see above). In natural speech there are hardly any pauses between successive words, and thus speech segmentation is a necessary subtask of speech recognition (see below). In most spoken languages, the sounds representing successive letters blend into each other in a process termed coarticulation, so the conversion of the analog signal to discrete characters can be a very difficult process. Also, given that words in the same language are spoken by people with different accents, the speech recognition software must be able to recognize the wide variety of input as being identical to each other in terms of its textual equivalent.■Speech segmentation■Given a sound clip of a person or people speaking, separate it into words. A subtask of speech recognition and typically grouped with it.■Text-to-speech■Given a text, transform those units and produce a spoken representation. Text-to-speech can be used to aid the visually impaired.[18]■Word segmentation (Tokenization)■Separate a chunk of continuous text into separate words. For a language like English, this is fairly trivial, since words are usually separated by spaces. However, some written languages like Chinese, Japanese and Thai do not mark word boundaries in such a fashion, and in those languages text segmentation is a significant task requiring knowledge of the vocabulary and morphology of words in the language. Sometimes this process is also used in cases like bag of words (BOW) creation in data mining.■Morphological analysis■Lemmatization■The task of removing inflectional endings only and to return the base dictionary form of a word which is also known as a lemma. Lemmatization is another technique for reducing words to their normalized form. But in this case, the transformation actually uses a dictionary to map words to their actual form.[19]■Morphological segmentation■Separate words into individual morphemes and identify the class of the morphemes. The difficulty of this task depends greatly on the complexity of the morphology (i.e., the structure of words) of the language being considered. English has fairly simple morphology, especially inflectional morphology, and thus it is often possible to ignore this task entirely and simply model all possible forms of a word (e.g., \"open, opens, opened, opening\") as separate words. In languages such as Turkish or Meitei,[20] a highly agglutinated Indian language, however, such an approach is not possible, as each dictionary entry has thousands of possible word forms.■Part-of-speech tagging■Given a sentence, determine the part of speech (POS) for each word. Many words, especially common ones, can serve as multiple parts of speech. For example, \"book\" can be a noun (\"the book on the table\") or verb (\"to book a flight\"); \"set\" can be a noun, verb or adjective; and \"out\" can be any of at least five different parts of speech.■Stemming■The process of reducing inflected (or sometimes derived) words to a base form (e.g., \"close\" will be the root for \"closed\", \"closing\", \"close\", \"closer\" etc.). Stemming yields similar results as lemmatization, but does so on grounds of rules, not a dictionary.■Syntactic analysis■Grammar induction[21]■Generate a formal grammar that describes a language's syntax.■Sentence breaking (also known as \"sentence boundary disambiguation\")■Given a chunk of text, find the sentence boundaries. Sentence boundaries are often marked by periods or other punctuation marks, but these same characters can serve other purposes (e.g., marking abbreviations).■Parsing■Determine the parse tree (grammatical analysis) of a given sentence. The grammar for natural languages is ambiguous and typical sentences have multiple possible analyses: perhaps surprisingly, for a typical sentence there may be thousands of potential parses (most of which will seem completely nonsensical to a human). There are two primary types of parsing: dependency parsing and constituency parsing. Dependency parsing focuses on the relationships between words in a sentence (marking things like primary objects and predicates), whereas constituency parsing focuses on building out the parse tree using a probabilistic context-free grammar (PCFG) (see also stochastic grammar).■Lexical semantics (of individual words in context)■Lexical semantics■What is the computational meaning of individual words in context?■Distributional semantics■How can we learn semantic representations from data?■Named entity recognition (NER)■Given a stream of text, determine which items in the text map to proper names, such as people or places, and what the type of each such name is (e.g. person, location, organization). Although capitalization can aid in recognizing named entities in languages such as English, this information cannot aid in determining the type of named entity, and in any case, is often inaccurate or insufficient. For example, the first letter of a sentence is also capitalized, and named entities often span several words, only some of which are capitalized. Furthermore, many other languages in non-Western scripts (e.g. Chinese or Arabic) do not have any capitalization at all, and even languages with capitalization may not consistently use it to distinguish names. For example, German capitalizes all nouns, regardless of whether they are names, and French and Spanish do not capitalize names that serve as adjectives.■Sentiment analysis (see also multimodal sentiment analysis)■Extract subjective information usually from a set of documents, often using online reviews to determine \"polarity\" about specific objects. It is especially useful for identifying trends of public opinion in social media, for marketing.■Terminology extraction■The goal of terminology extraction is to automatically extract relevant terms from a given corpus.■Word sense disambiguation■Many words have more than one meaning; we have to select the meaning which makes the most sense in context. For this problem, we are typically given a list of words and associated word senses, e.g. from a dictionary or an online resource such as WordNet.■Relational semantics (semantics of individual sentences)■Relationship extraction■Given a chunk of text, identify the relationships among named entities (e.g. who is married to whom).■Semantic Parsing■Given a piece of text (typically a sentence), produce a formal representation of its semantics, either as a graph (e.g., in AMR parsing) or in accordance with a logical formalism (e.g., in DRT parsing). This challenge typically includes aspects of several more elementary NLP tasks from semantics (e.g., semantic role labelling, word sense disambiguation) and can be extended to include full-fledged discourse analysis (e.g., discourse analysis, coreference; see Natural Language Understanding below).■Semantic Role Labelling (see also implicit semantic role labelling below)■Given a single sentence, identify and disambiguate semantic predicates (e.g., verbal frames), then identify and classify the frame elements (semantic roles).■Discourse (semantics beyond individual sentences)■Coreference resolution■Given a sentence or larger chunk of text, determine which words (\"mentions\") refer to the same objects (\"entities\"). Anaphora resolution is a specific example of this task, and is specifically concerned with matching up pronouns with the nouns or names to which they refer. The more general task of coreference resolution also includes identifying so-called \"bridging relationships\" involving referring expressions. For example, in a sentence such as \"He entered John's house through the front door\", \"the front door\" is a referring expression and the bridging relationship to be identified is the fact that the door being referred to is the front door of John's house (rather than of some other structure that might also be referred to).■Discourse analysis■This rubric includes several related tasks. One task is discourse parsing, i.e., identifying the discourse structure of a connected text, i.e. the nature of the discourse relationships between sentences (e.g. elaboration, explanation, contrast). Another possible task is recognizing and classifying the speech acts in a chunk of text (e.g. yes-no question, content question, statement, assertion, etc.).■Implicit Semantic Role Labelling■Given a single sentence, identify and disambiguate semantic predicates (e.g., verbal frames) and their explicit semantic roles in the current sentence (see Semantic Role Labelling above). Then, identify semantic roles that are not explicitly realized in the current sentence, classify them into arguments that are explicitly realized elsewhere in the text and those that are not specified, and resolve the former against the local text. A closely related task is zero anaphora resolution, i.e., the extension of coreference resolution to pro-drop languages.■Recognizing Textual entailment■Given two text fragments, determine if one being true entails the other, entails the other's negation, or allows the other to be either true or false.[22]■Topic segmentation and recognition■Given a chunk of text, separate it into segments each of which is devoted to a topic, and identify the topic of the segment.■Higher-level NLP applications■Automatic summarization (text summarization)■Produce a readable summary of a chunk of text. Often used to provide summaries of the text of a known type, such as research papers, articles in the financial section of a newspaper.■Book generation■Not an NLP task proper but an extension of Natural Language Generation and other NLP tasks is the creation of full-fledged books. The first machine-generated book was created by a rule-based system in 1984 (Racter, The policeman's beard is half-constructed).[23] The first published work by a neural network was published in 2018, 1 the Road, marketed as a novel, contains sixty million words. Both these systems are basically elaborate but non-sensical (semantics-free) language models. The first machine-generated science book was published in 2019 (Beta Writer, Lithium-Ion Batteries, Springer, Cham).[24] Unlike Racter and 1 the Road, this is grounded on factual knowledge and based on text summarization.■Dialogue management■Computer systems intended to converse with a human.■Document AI■A Document AI platform sits on top of the NLP technology enabling users with no prior experience of artificial intelligence, machine learning or NLP to quickly train a computer to extract the specific data they need from different document types. NLP-powered Document AI enables non-technical teams to quickly access information hidden in documents, for example, lawyers, business analysts and accountants.[25]■Grammatical error correction■Grammatical error detection and correction involves a great band-width of problems on all levels of linguistic analysis (phonology/orthography, morphology, syntax, semantics, pragmatics). Grammatical error correction is impactful since it affects hundreds of millions of people that use or acquire English as a second language. It has thus been subject to a number of shared tasks since 2011.[26][27][28] As far as orthography, morphology, syntax and certain aspects of semantics are concerned, and due to the development of powerful neural language models such as GPT-2, this can now (2019) be considered a largely solved problem and is being marketed in various commercial applications.[29]■Machine translation■Automatically translate text from one human language to another. This is one of the most difficult problems, and is a member of a class of problems colloquially termed \"AI-complete\", i.e. requiring all of the different types of knowledge that humans possess (grammar, semantics, facts about the real world, etc.) to solve properly.■Natural language generation (NLG):■Convert information from computer databases or semantic intents into readable human language.■Natural language understanding (NLU)■Convert chunks of text into more formal representations such as first-order logic structures that are easier for computer programs to manipulate. Natural language understanding involves the identification of the intended semantic from the multiple possible semantics which can be derived from a natural language expression which usually takes the form of organized notations of natural language concepts. Introduction and creation of language metamodel and ontology are efficient however empirical solutions. An explicit formalization of natural language semantics without confusions with implicit assumptions such as closed-world assumption (CWA) vs. open-world assumption, or subjective Yes/No vs. objective True/False is expected for the construction of a basis of semantics formalization.[30]■Question answering■Given a human-language question, determine its answer. Typical questions have a specific right answer (such as \"What is the capital of Canada?\"), but sometimes open-ended questions are also considered (such as \"What is the meaning of life?\"). Recent works have looked at even more complex questions.\n",
            "\n"
          ]
        }
      ],
      "source": [
        "!pip install pypdf2\n",
        "!pip install reportlab\n",
        "\n",
        "from PyPDF2 import PdfReader\n",
        "from reportlab.pdfgen import canvas\n",
        "from reportlab.lib.pagesizes import letter\n",
        "\n",
        "def txt_to_pdf(txt_file_path, pdf_file_path):\n",
        "    \"\"\"Converts a TXT file to PDF.\"\"\"\n",
        "    with open(txt_file_path, 'r') as txt_file:\n",
        "        text = txt_file.read()\n",
        "\n",
        "    c = canvas.Canvas(pdf_file_path, pagesize=letter)\n",
        "    c.drawString(100, 750, text)\n",
        "    c.save()\n",
        "\n",
        "def extract_text_from_pdf(pdf_file_path):\n",
        "    \"\"\"Extracts text from a PDF file.\"\"\"\n",
        "    with open(pdf_file_path, 'rb') as pdf_file:\n",
        "        pdf_reader = PdfReader(pdf_file)\n",
        "        text = \"\"\n",
        "        for page_num in range(len(pdf_reader.pages)):\n",
        "            page = pdf_reader.pages[page_num]\n",
        "            text += page.extract_text()\n",
        "    return text\n",
        "\n",
        "# File paths\n",
        "txt_file_path = 'kpe_sample_text.txt'\n",
        "pdf_file_path = 'output.pdf'\n",
        "\n",
        "# Convert TXT to PDF\n",
        "txt_to_pdf(txt_file_path, pdf_file_path)\n",
        "\n",
        "# Extract and print text from PDF\n",
        "extracted_text = extract_text_from_pdf(pdf_file_path)\n",
        "print(extracted_text)"
      ]
    },
    {
      "cell_type": "markdown",
      "metadata": {
        "id": "1S0GZOL9UDoz"
      },
      "source": [
        "## 2. Convert the Text into Speech\n",
        "- Use **pyttsx3** OR **gTTS**"
      ]
    },
    {
      "cell_type": "markdown",
      "metadata": {
        "id": "FVAzWCB8UDoz"
      },
      "source": [
        "### Install the library"
      ]
    },
    {
      "cell_type": "code",
      "execution_count": 18,
      "metadata": {
        "colab": {
          "base_uri": "https://localhost:8080/"
        },
        "id": "YUZGnrbyUDo0",
        "outputId": "293fc99c-a46e-4d0c-fd08-3efd7f4bd30b"
      },
      "outputs": [
        {
          "output_type": "stream",
          "name": "stdout",
          "text": [
            "Collecting pyttsx3\n",
            "  Downloading pyttsx3-2.98-py3-none-any.whl.metadata (3.8 kB)\n",
            "Downloading pyttsx3-2.98-py3-none-any.whl (34 kB)\n",
            "Installing collected packages: pyttsx3\n",
            "Successfully installed pyttsx3-2.98\n"
          ]
        }
      ],
      "source": [
        "!pip install pyttsx3"
      ]
    },
    {
      "cell_type": "markdown",
      "metadata": {
        "id": "QD-0g7HgUDo0"
      },
      "source": [
        "### Import the library"
      ]
    },
    {
      "cell_type": "code",
      "execution_count": 20,
      "metadata": {
        "colab": {
          "base_uri": "https://localhost:8080/"
        },
        "id": "fDEhSw_KUDo0",
        "outputId": "692e96fb-0773-47f8-946a-a6f57b8c1158"
      },
      "outputs": [
        {
          "output_type": "stream",
          "name": "stdout",
          "text": [
            "Requirement already satisfied: pypdf2 in /usr/local/lib/python3.11/dist-packages (3.0.1)\n",
            "Requirement already satisfied: reportlab in /usr/local/lib/python3.11/dist-packages (4.3.1)\n",
            "Requirement already satisfied: pillow>=9.0.0 in /usr/local/lib/python3.11/dist-packages (from reportlab) (11.1.0)\n",
            "Requirement already satisfied: chardet in /usr/local/lib/python3.11/dist-packages (from reportlab) (5.2.0)\n",
            "Requirement already satisfied: pyttsx3 in /usr/local/lib/python3.11/dist-packages (2.98)\n"
          ]
        }
      ],
      "source": [
        "!pip install pypdf2\n",
        "!pip install reportlab\n",
        "!pip install pyttsx3\n",
        "\n",
        "from PyPDF2 import PdfReader\n",
        "from reportlab.pdfgen import canvas\n",
        "from reportlab.lib.pagesizes import letter\n",
        "import pyttsx3\n",
        "\n",
        "from PyPDF2 import PdfReader\n",
        "from reportlab.pdfgen import canvas\n",
        "from reportlab.lib.pagesizes import letter\n",
        "import pyttsx3"
      ]
    },
    {
      "cell_type": "markdown",
      "metadata": {
        "id": "2EMjMWHFUDo0"
      },
      "source": [
        "### Initialize a Speaker object"
      ]
    },
    {
      "cell_type": "code",
      "execution_count": 25,
      "metadata": {
        "id": "7eUHOhHMUDo0"
      },
      "outputs": [],
      "source": [
        "def text_to_speech(text, output_file_path=\"output.mp3\"):\n",
        "    \"\"\"Converts text to speech and saves it to an audio file.\"\"\"\n",
        "\n",
        "    # 1. Initialize the pyttsx3 engine:\n",
        "    engine = pyttsx3.init()\n",
        "\n",
        "\n",
        "\n",
        "    # 3. Save the text to an audio file:\n",
        "    engine.save_to_file(text, output_file_path)\n",
        "\n",
        "    # 4. Speak the text aloud (if desired):\n",
        "    engine.say(text)\n",
        "\n",
        "    # 5. Run the engine to process the commands:\n",
        "    engine.runAndWait()"
      ]
    },
    {
      "cell_type": "markdown",
      "metadata": {
        "id": "llMOT6rOUDo0"
      },
      "source": [
        "### Convert the text"
      ]
    },
    {
      "cell_type": "code",
      "execution_count": 26,
      "metadata": {
        "colab": {
          "base_uri": "https://localhost:8080/"
        },
        "id": "1GQrZdN_UDo0",
        "outputId": "56b1fbdb-bc7e-49c2-d43d-fc70ec626b25"
      },
      "outputs": [
        {
          "output_type": "stream",
          "name": "stdout",
          "text": [
            "Requirement already satisfied: pypdf2 in /usr/local/lib/python3.11/dist-packages (3.0.1)\n",
            "Requirement already satisfied: reportlab in /usr/local/lib/python3.11/dist-packages (4.3.1)\n",
            "Requirement already satisfied: pillow>=9.0.0 in /usr/local/lib/python3.11/dist-packages (from reportlab) (11.1.0)\n",
            "Requirement already satisfied: chardet in /usr/local/lib/python3.11/dist-packages (from reportlab) (5.2.0)\n",
            "Requirement already satisfied: pyttsx3 in /usr/local/lib/python3.11/dist-packages (2.98)\n",
            "Hit:1 https://developer.download.nvidia.com/compute/cuda/repos/ubuntu2204/x86_64  InRelease\n",
            "Hit:2 http://archive.ubuntu.com/ubuntu jammy InRelease\n",
            "Hit:3 https://r2u.stat.illinois.edu/ubuntu jammy InRelease\n",
            "Get:4 http://archive.ubuntu.com/ubuntu jammy-updates InRelease [128 kB]\n",
            "Get:5 http://security.ubuntu.com/ubuntu jammy-security InRelease [129 kB]\n",
            "Hit:6 https://cloud.r-project.org/bin/linux/ubuntu jammy-cran40/ InRelease\n",
            "Hit:7 http://archive.ubuntu.com/ubuntu jammy-backports InRelease\n",
            "Hit:8 https://ppa.launchpadcontent.net/deadsnakes/ppa/ubuntu jammy InRelease\n",
            "Hit:9 https://ppa.launchpadcontent.net/graphics-drivers/ppa/ubuntu jammy InRelease\n",
            "Hit:10 https://ppa.launchpadcontent.net/ubuntugis/ppa/ubuntu jammy InRelease\n",
            "Fetched 257 kB in 1s (185 kB/s)\n",
            "Reading package lists... Done\n",
            "W: Skipping acquire of configured file 'main/source/Sources' as repository 'https://r2u.stat.illinois.edu/ubuntu jammy InRelease' does not seem to provide it (sources.list entry misspelt?)\n",
            "Reading package lists... Done\n",
            "Building dependency tree... Done\n",
            "Reading state information... Done\n",
            "espeak is already the newest version (1.48.15+dfsg-3).\n",
            "0 upgraded, 0 newly installed, 0 to remove and 40 not upgraded.\n",
            "Audiobook created: output.mp3\n"
          ]
        }
      ],
      "source": [
        "!pip install pypdf2\n",
        "!pip install reportlab\n",
        "!pip install pyttsx3\n",
        "\n",
        "from PyPDF2 import PdfReader\n",
        "from reportlab.pdfgen import canvas\n",
        "from reportlab.lib.pagesizes import letter\n",
        "import pyttsx3\n",
        "!apt-get update && apt-get install -y espeak\n",
        "def txt_to_pdf(txt_file_path, pdf_file_path):\n",
        "    \"\"\"Converts a TXT file to PDF.\"\"\"\n",
        "    with open(txt_file_path, 'r') as txt_file:\n",
        "        text = txt_file.read()\n",
        "\n",
        "    c = canvas.Canvas(pdf_file_path, pagesize=letter)\n",
        "    c.drawString(100, 750, text)\n",
        "    c.save()\n",
        "\n",
        "def extract_text_from_pdf(pdf_file_path):\n",
        "    \"\"\"Extracts text from a PDF file.\"\"\"\n",
        "    with open(pdf_file_path, 'rb') as pdf_file:\n",
        "        pdf_reader = PdfReader(pdf_file)\n",
        "        text = \"\"\n",
        "        for page_num in range(len(pdf_reader.pages)):\n",
        "            page = pdf_reader.pages[page_num]\n",
        "            text += page.extract_text()\n",
        "    return text\n",
        "\n",
        "def text_to_speech(text, output_file_path=\"output.mp3\"):\n",
        "    \"\"\"Converts text to speech and saves it to an audio file.\"\"\"\n",
        "    engine = pyttsx3.init()\n",
        "    engine.save_to_file(text, output_file_path)  # Convert and save to file\n",
        "    engine.runAndWait()  # Wait for conversion to finish\n",
        "\n",
        "# File paths\n",
        "txt_file_path = 'kpe_sample_text.txt'\n",
        "pdf_file_path = 'output.pdf'\n",
        "\n",
        "# Convert TXT to PDF\n",
        "txt_to_pdf(txt_file_path, pdf_file_path)\n",
        "\n",
        "# Extract text from PDF\n",
        "extracted_text = extract_text_from_pdf(pdf_file_path)\n",
        "\n",
        "# Convert extracted text to speech, specifying WAV output\n",
        "text_to_speech(extracted_text, \"output.wav\")\n",
        "\n",
        "print(f\"Audiobook created: output.wav\")"
      ]
    },
    {
      "cell_type": "markdown",
      "metadata": {
        "id": "IN5i8TxZUDo0"
      },
      "source": [
        "### Save the audio"
      ]
    },
    {
      "cell_type": "code",
      "execution_count": 24,
      "metadata": {
        "colab": {
          "base_uri": "https://localhost:8080/"
        },
        "id": "FVAuFcwnUDo0",
        "outputId": "86b36665-5761-4aed-c746-956b5bf42d45"
      },
      "outputs": [
        {
          "output_type": "stream",
          "name": "stdout",
          "text": [
            "Audiobook created: output.mp3\n"
          ]
        }
      ],
      "source": [
        "print(f\"Audiobook created: output.mp3\")"
      ]
    },
    {
      "cell_type": "code",
      "execution_count": null,
      "metadata": {
        "id": "XOmgPVZ3UDo1"
      },
      "outputs": [],
      "source": []
    },
    {
      "cell_type": "code",
      "execution_count": null,
      "metadata": {
        "id": "7_SnUv79UDo1"
      },
      "outputs": [],
      "source": []
    }
  ],
  "metadata": {
    "kernelspec": {
      "display_name": "testing",
      "language": "python",
      "name": "testing"
    },
    "language_info": {
      "codemirror_mode": {
        "name": "ipython",
        "version": 3
      },
      "file_extension": ".py",
      "mimetype": "text/x-python",
      "name": "python",
      "nbconvert_exporter": "python",
      "pygments_lexer": "ipython3",
      "version": "3.8.5"
    },
    "colab": {
      "provenance": []
    }
  },
  "nbformat": 4,
  "nbformat_minor": 0
}